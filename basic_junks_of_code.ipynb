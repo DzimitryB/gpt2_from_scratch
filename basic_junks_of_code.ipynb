{
 "cells": [
  {
   "cell_type": "markdown",
   "id": "f2ddc821-199b-4b65-a55b-448f77bc80b4",
   "metadata": {},
   "source": [
    "# GPT2 from scratch"
   ]
  },
  {
   "cell_type": "markdown",
   "id": "5241b1ad-3235-4265-a283-441629cd8bad",
   "metadata": {
    "execution": {
     "iopub.execute_input": "2024-09-26T10:51:50.860597Z",
     "iopub.status.busy": "2024-09-26T10:51:50.859721Z",
     "iopub.status.idle": "2024-09-26T10:51:50.878008Z",
     "shell.execute_reply": "2024-09-26T10:51:50.876907Z",
     "shell.execute_reply.started": "2024-09-26T10:51:50.860546Z"
    }
   },
   "source": [
    "**Base on the video of Andrej Karpathy** https://www.youtube.com/watch?v=kCc8FmEb1nY"
   ]
  },
  {
   "cell_type": "markdown",
   "id": "9c9e930d-13ab-4e85-84f9-a2bdbad6f028",
   "metadata": {},
   "source": [
    "We build a Generatively Pretrained Transformer (GPT), following the paper \"Attention is All You Need\" and OpenAI's GPT-2 / GPT-3. We talk about connections to ChatGPT, which has taken the world by storm. We watch GitHub Copilot, itself a GPT, help us write a GPT (meta :D!) . I recommend people watch the earlier makemore videos to get comfortable with the autoregressive language modeling framework and basics of tensors and PyTorch nn, which we take for granted in this video.\n",
    "\n",
    "Links:\n",
    "- Google colab for the video: https://colab.research.google.com/drive/1JMLa53HDuA-i7ZBmqV7ZnA3c_fvtXnx-\n",
    "- GitHub repo for the video: https://github.com/karpathy/ng-video-lecture\n",
    "- Playlist of the whole Zero to Hero series so far:    • The spelled-out intro to neural netwo...  \n",
    "- nanoGPT repo: https://github.com/karpathy/nanoGPT\n",
    "- my website: https://karpathy.ai\n",
    "- my twitter:   / karpathy  \n",
    "- our Discord channel:   / discord  \n",
    "\n",
    "Supplementary links:\n",
    "- Attention is All You Need paper: https://arxiv.org/abs/1706.03762\n",
    "- OpenAI GPT-3 paper: https://arxiv.org/abs/2005.14165 \n",
    "- OpenAI ChatGPT blog post: https://openai.com/blog/chatgpt/\n",
    "- The GPU I'm training the model on is from Lambda GPU Cloud, I think the best and easiest way to spin up an on-demand GPU instance in the cloud that you can ssh to: https://lambdalabs.com . If you prefer to work in notebooks, I think the easiest path today is Google Colab.\n",
    "\n",
    "Suggested exercises:\n",
    "- EX1: The n-dimensional tensor mastery challenge: Combine the `Head` and `MultiHeadAttention` into one class that processes all the heads in parallel, treating the heads as another batch dimension (answer is in nanoGPT).\n",
    "- EX2: Train the GPT on your own dataset of choice! What other data could be fun to blabber on about? (A fun advanced suggestion if you like: train a GPT to do addition of two numbers, i.e. a+b=c. You may find it helpful to predict the digits of c in reverse order, as the typical addition algorithm (that you're hoping it learns) would proceed right to left too. You may want to modify the data loader to simply serve random problems and skip the generation of train.bin, val.bin. You may want to mask out the loss at the input positions of a+b that just specify the problem using y=-1 in the targets (see CrossEntropyLoss ignore_index). Does your Transformer learn to add? Once you have this, swole doge project: build a calculator clone in GPT, for all of +-*/. Not an easy problem. You may need Chain of Thought traces.)\n",
    "- EX3: Find a dataset that is very large, so large that you can't see a gap between train and val loss. Pretrain the transformer on this data, then initialize with that model and finetune it on tiny shakespeare with a smaller number of steps and lower learning rate. Can you obtain a lower validation loss by the use of pretraining?\n",
    "- EX4: Read some transformer papers and implement one additional feature or change that people seem to use. Does it improve the performance of your GPT?"
   ]
  },
  {
   "cell_type": "markdown",
   "id": "a872db3e-31b0-4b1b-84d0-0782d3804032",
   "metadata": {},
   "source": [
    "## Basic settings and imports"
   ]
  },
  {
   "cell_type": "code",
   "execution_count": 1,
   "id": "62fbaaf1-ef7c-4bea-92e9-4b11f59829a8",
   "metadata": {
    "execution": {
     "iopub.execute_input": "2024-10-06T09:16:02.861835Z",
     "iopub.status.busy": "2024-10-06T09:16:02.861720Z",
     "iopub.status.idle": "2024-10-06T09:16:02.879546Z",
     "shell.execute_reply": "2024-10-06T09:16:02.878986Z",
     "shell.execute_reply.started": "2024-10-06T09:16:02.861823Z"
    }
   },
   "outputs": [],
   "source": [
    "# Automatically reload modules when they have changed\n",
    "%load_ext autoreload"
   ]
  },
  {
   "cell_type": "code",
   "execution_count": 2,
   "id": "632bbee5-624b-4cc8-9812-2484be3e6ce8",
   "metadata": {
    "execution": {
     "iopub.execute_input": "2024-10-06T09:16:02.882627Z",
     "iopub.status.busy": "2024-10-06T09:16:02.882497Z",
     "iopub.status.idle": "2024-10-06T09:16:02.885331Z",
     "shell.execute_reply": "2024-10-06T09:16:02.884857Z",
     "shell.execute_reply.started": "2024-10-06T09:16:02.882615Z"
    }
   },
   "outputs": [],
   "source": [
    "%autoreload 2"
   ]
  },
  {
   "cell_type": "code",
   "execution_count": 3,
   "id": "8142a43f-3b04-4ca2-aa7c-673e62b09724",
   "metadata": {
    "execution": {
     "iopub.execute_input": "2024-10-06T09:16:04.550730Z",
     "iopub.status.busy": "2024-10-06T09:16:04.550355Z",
     "iopub.status.idle": "2024-10-06T09:16:04.562566Z",
     "shell.execute_reply": "2024-10-06T09:16:04.562178Z",
     "shell.execute_reply.started": "2024-10-06T09:16:04.550706Z"
    }
   },
   "outputs": [
    {
     "data": {
      "text/html": [
       "<style>.container { width:80% !important; }</style>"
      ],
      "text/plain": [
       "<IPython.core.display.HTML object>"
      ]
     },
     "metadata": {},
     "output_type": "display_data"
    }
   ],
   "source": [
    "# Update width of the jupyter page\n",
    "from IPython.core.display import HTML\n",
    "from IPython.display import display\n",
    "\n",
    "display(HTML(\"<style>.container { width:80% !important; }</style>\"))"
   ]
  },
  {
   "cell_type": "code",
   "execution_count": 4,
   "id": "4770cb53-497e-4137-99c0-d425ac6ef51b",
   "metadata": {
    "execution": {
     "iopub.execute_input": "2024-10-06T09:16:06.135202Z",
     "iopub.status.busy": "2024-10-06T09:16:06.133906Z",
     "iopub.status.idle": "2024-10-06T09:16:06.670984Z",
     "shell.execute_reply": "2024-10-06T09:16:06.670621Z",
     "shell.execute_reply.started": "2024-10-06T09:16:06.135078Z"
    }
   },
   "outputs": [],
   "source": [
    "# Show images inline\n",
    "%matplotlib inline"
   ]
  },
  {
   "cell_type": "code",
   "execution_count": 5,
   "id": "15df2273-1d27-4d72-b03a-528859d99833",
   "metadata": {
    "execution": {
     "iopub.execute_input": "2024-10-06T09:16:08.421764Z",
     "iopub.status.busy": "2024-10-06T09:16:08.420483Z",
     "iopub.status.idle": "2024-10-06T09:16:08.447812Z",
     "shell.execute_reply": "2024-10-06T09:16:08.447389Z",
     "shell.execute_reply.started": "2024-10-06T09:16:08.421710Z"
    }
   },
   "outputs": [
    {
     "name": "stdout",
     "output_type": "stream",
     "text": [
      "3.8.19\n"
     ]
    }
   ],
   "source": [
    "# Check python version\n",
    "from platform import python_version\n",
    "print(python_version())"
   ]
  },
  {
   "cell_type": "code",
   "execution_count": 6,
   "id": "c72f7dc3-9522-4c4f-83f1-6a4d44ae514f",
   "metadata": {
    "execution": {
     "iopub.execute_input": "2024-10-06T09:16:10.625302Z",
     "iopub.status.busy": "2024-10-06T09:16:10.624816Z",
     "iopub.status.idle": "2024-10-06T09:16:14.627663Z",
     "shell.execute_reply": "2024-10-06T09:16:14.627202Z",
     "shell.execute_reply.started": "2024-10-06T09:16:10.625270Z"
    }
   },
   "outputs": [],
   "source": [
    "# Import libraries\n",
    "import torch\n",
    "from torch import nn\n",
    "from torch.nn import functional as F"
   ]
  },
  {
   "cell_type": "markdown",
   "id": "87f2de70-4caa-4278-8377-9ed06dd5a9a9",
   "metadata": {},
   "source": [
    "## Start Course"
   ]
  },
  {
   "cell_type": "code",
   "execution_count": 14,
   "id": "15389d2f-4eee-4127-a9ba-db9f32c01d3a",
   "metadata": {
    "execution": {
     "iopub.execute_input": "2024-09-26T11:34:53.974780Z",
     "iopub.status.busy": "2024-09-26T11:34:53.973550Z",
     "iopub.status.idle": "2024-09-26T11:34:54.358404Z",
     "shell.execute_reply": "2024-09-26T11:34:54.356677Z",
     "shell.execute_reply.started": "2024-09-26T11:34:53.974702Z"
    }
   },
   "outputs": [
    {
     "name": "stdout",
     "output_type": "stream",
     "text": [
      "  % Total    % Received % Xferd  Average Speed   Time    Time     Time  Current\n",
      "                                 Dload  Upload   Total   Spent    Left  Speed\n",
      "100 1089k  100 1089k    0     0  5327k      0 --:--:-- --:--:-- --:--:-- 5313k\n"
     ]
    }
   ],
   "source": [
    "# Get dataset\n",
    "!curl https://raw.githubusercontent.com/karpathy/char-rnn/master/data/tinyshakespeare/input.txt -o tinyshakespeare.txt"
   ]
  },
  {
   "cell_type": "code",
   "execution_count": 7,
   "id": "12e34e61-7e52-402c-b300-6f3c2362191d",
   "metadata": {
    "execution": {
     "iopub.execute_input": "2024-10-06T09:16:21.502296Z",
     "iopub.status.busy": "2024-10-06T09:16:21.501339Z",
     "iopub.status.idle": "2024-10-06T09:16:21.539621Z",
     "shell.execute_reply": "2024-10-06T09:16:21.539151Z",
     "shell.execute_reply.started": "2024-10-06T09:16:21.502254Z"
    }
   },
   "outputs": [],
   "source": [
    "# read to inspect\n",
    "with open('tinyshakespeare.txt', mode='r', encoding='utf-8') as f:\n",
    "    text = f.read()"
   ]
  },
  {
   "cell_type": "code",
   "execution_count": 8,
   "id": "3f30d46c-476f-4c2a-a447-df90a2709fbb",
   "metadata": {
    "execution": {
     "iopub.execute_input": "2024-10-06T09:16:22.328910Z",
     "iopub.status.busy": "2024-10-06T09:16:22.328027Z",
     "iopub.status.idle": "2024-10-06T09:16:22.364939Z",
     "shell.execute_reply": "2024-10-06T09:16:22.364505Z",
     "shell.execute_reply.started": "2024-10-06T09:16:22.328868Z"
    }
   },
   "outputs": [
    {
     "name": "stdout",
     "output_type": "stream",
     "text": [
      "Length of dataset: 1115394\n",
      "First 100 chars: \n",
      "First Citizen:\n",
      "Before we proceed any further, hear me speak.\n",
      "\n",
      "All:\n",
      "Speak, speak.\n",
      "\n",
      "First Citizen:\n",
      "You\n"
     ]
    }
   ],
   "source": [
    "print(f\"Length of dataset: {len(text)}\")\n",
    "print(f\"First 100 chars: \\n{text[:100]}\")"
   ]
  },
  {
   "cell_type": "code",
   "execution_count": 9,
   "id": "2f91c982-5d0a-473c-92c2-c07346c30703",
   "metadata": {
    "execution": {
     "iopub.execute_input": "2024-10-06T09:16:33.121218Z",
     "iopub.status.busy": "2024-10-06T09:16:33.120301Z",
     "iopub.status.idle": "2024-10-06T09:16:33.164432Z",
     "shell.execute_reply": "2024-10-06T09:16:33.164079Z",
     "shell.execute_reply.started": "2024-10-06T09:16:33.121168Z"
    }
   },
   "outputs": [
    {
     "name": "stdout",
     "output_type": "stream",
     "text": [
      "['\\n', ' ', '!', '$', '&', \"'\", ',', '-', '.', '3', ':', ';', '?', 'A', 'B', 'C', 'D', 'E', 'F', 'G', 'H', 'I', 'J', 'K', 'L', 'M', 'N', 'O', 'P', 'Q', 'R', 'S', 'T', 'U', 'V', 'W', 'X', 'Y', 'Z', 'a', 'b', 'c', 'd', 'e', 'f', 'g', 'h', 'i', 'j', 'k', 'l', 'm', 'n', 'o', 'p', 'q', 'r', 's', 't', 'u', 'v', 'w', 'x', 'y', 'z']\n",
      "65\n"
     ]
    }
   ],
   "source": [
    "# All characters in the text\n",
    "chars = sorted(list(set(text)))\n",
    "vocab_size = len(chars)\n",
    "print(chars)\n",
    "print(vocab_size)"
   ]
  },
  {
   "cell_type": "code",
   "execution_count": 10,
   "id": "97e402d0-0220-4b4c-94d5-b461045c1788",
   "metadata": {
    "execution": {
     "iopub.execute_input": "2024-10-06T09:16:47.118338Z",
     "iopub.status.busy": "2024-10-06T09:16:47.117469Z",
     "iopub.status.idle": "2024-10-06T09:16:47.155564Z",
     "shell.execute_reply": "2024-10-06T09:16:47.155001Z",
     "shell.execute_reply.started": "2024-10-06T09:16:47.118291Z"
    }
   },
   "outputs": [
    {
     "name": "stdout",
     "output_type": "stream",
     "text": [
      "[20, 47, 1, 32, 46, 43, 56, 43]\n",
      "Hi There\n"
     ]
    }
   ],
   "source": [
    "# Create mapping from charecters to integers\n",
    "stoi = {s:i for i,s in enumerate(chars)}\n",
    "itos = {i:s for i,s in enumerate(chars)}\n",
    "encode = lambda s: [stoi[el] for el in s]\n",
    "decode = lambda i: \"\".join([itos[el] for el in i])\n",
    "\n",
    "print(encode(\"Hi There\"))\n",
    "print(decode([20, 47, 1, 32, 46, 43, 56, 43]))"
   ]
  },
  {
   "cell_type": "code",
   "execution_count": 11,
   "id": "28816130-342e-4fd8-900e-810c9b78a168",
   "metadata": {
    "execution": {
     "iopub.execute_input": "2024-10-06T09:22:24.605066Z",
     "iopub.status.busy": "2024-10-06T09:22:24.603107Z",
     "iopub.status.idle": "2024-10-06T09:22:24.763264Z",
     "shell.execute_reply": "2024-10-06T09:22:24.762876Z",
     "shell.execute_reply.started": "2024-10-06T09:22:24.604949Z"
    }
   },
   "outputs": [
    {
     "name": "stdout",
     "output_type": "stream",
     "text": [
      "torch.Size([1115394]) torch.int64\n",
      "tensor([18, 47, 56, 57, 58,  1, 15, 47, 58, 47, 64, 43, 52, 10,  0, 14, 43, 44,\n",
      "        53, 56, 43,  1, 61, 43,  1, 54, 56, 53, 41, 43, 43, 42,  1, 39, 52, 63,\n",
      "         1, 44, 59, 56, 58, 46, 43, 56,  6,  1, 46, 43, 39, 56,  1, 51, 43,  1,\n",
      "        57, 54, 43, 39, 49,  8,  0,  0, 13, 50, 50, 10,  0, 31, 54, 43, 39, 49,\n",
      "         6,  1, 57, 54, 43, 39, 49,  8,  0,  0, 18, 47, 56, 57, 58,  1, 15, 47,\n",
      "        58, 47, 64, 43, 52, 10,  0, 37, 53, 59])\n"
     ]
    }
   ],
   "source": [
    "# Tokenize the whole dataset, using torch tensor\n",
    "data = torch.tensor(encode(text), dtype=torch.long)\n",
    "\n",
    "print(data.shape, data.dtype)\n",
    "print(data[:100])"
   ]
  },
  {
   "cell_type": "code",
   "execution_count": 12,
   "id": "8dee609b-015b-4508-915a-86baaec1f8dd",
   "metadata": {
    "execution": {
     "iopub.execute_input": "2024-10-06T09:22:28.154222Z",
     "iopub.status.busy": "2024-10-06T09:22:28.153476Z",
     "iopub.status.idle": "2024-10-06T09:22:28.183799Z",
     "shell.execute_reply": "2024-10-06T09:22:28.183338Z",
     "shell.execute_reply.started": "2024-10-06T09:22:28.154180Z"
    }
   },
   "outputs": [],
   "source": [
    "# Split dataset in train and validation\n",
    "n = int(0.9*len(data))\n",
    "train_data = data[:n]\n",
    "val_data = data[n:]"
   ]
  },
  {
   "cell_type": "code",
   "execution_count": 13,
   "id": "4b5e9f5f-2f41-4dd7-b589-8d51cee62c0a",
   "metadata": {
    "execution": {
     "iopub.execute_input": "2024-10-06T09:22:28.979834Z",
     "iopub.status.busy": "2024-10-06T09:22:28.978679Z",
     "iopub.status.idle": "2024-10-06T09:22:29.013009Z",
     "shell.execute_reply": "2024-10-06T09:22:29.012491Z",
     "shell.execute_reply.started": "2024-10-06T09:22:28.979760Z"
    }
   },
   "outputs": [
    {
     "data": {
      "text/plain": [
       "tensor([18, 47, 56, 57, 58,  1, 15, 47, 58, 47, 64, 43, 52, 10,  0, 14, 43])"
      ]
     },
     "execution_count": 13,
     "metadata": {},
     "output_type": "execute_result"
    }
   ],
   "source": [
    "# define block size (context length)\n",
    "block_size= 16\n",
    "train_data[:block_size+1]"
   ]
  },
  {
   "cell_type": "code",
   "execution_count": 14,
   "id": "51299fca-a121-4de8-a3ea-4032fc7fec74",
   "metadata": {
    "execution": {
     "iopub.execute_input": "2024-10-06T09:22:31.369598Z",
     "iopub.status.busy": "2024-10-06T09:22:31.368952Z",
     "iopub.status.idle": "2024-10-06T09:22:31.406354Z",
     "shell.execute_reply": "2024-10-06T09:22:31.405722Z",
     "shell.execute_reply.started": "2024-10-06T09:22:31.369547Z"
    }
   },
   "outputs": [
    {
     "name": "stdout",
     "output_type": "stream",
     "text": [
      "When input is tensor([18]) the target is 47\n",
      "When input is tensor([18, 47]) the target is 56\n",
      "When input is tensor([18, 47, 56]) the target is 57\n",
      "When input is tensor([18, 47, 56, 57]) the target is 58\n",
      "When input is tensor([18, 47, 56, 57, 58]) the target is 1\n",
      "When input is tensor([18, 47, 56, 57, 58,  1]) the target is 15\n",
      "When input is tensor([18, 47, 56, 57, 58,  1, 15]) the target is 47\n",
      "When input is tensor([18, 47, 56, 57, 58,  1, 15, 47]) the target is 58\n",
      "When input is tensor([18, 47, 56, 57, 58,  1, 15, 47, 58]) the target is 47\n",
      "When input is tensor([18, 47, 56, 57, 58,  1, 15, 47, 58, 47]) the target is 64\n",
      "When input is tensor([18, 47, 56, 57, 58,  1, 15, 47, 58, 47, 64]) the target is 43\n",
      "When input is tensor([18, 47, 56, 57, 58,  1, 15, 47, 58, 47, 64, 43]) the target is 52\n",
      "When input is tensor([18, 47, 56, 57, 58,  1, 15, 47, 58, 47, 64, 43, 52]) the target is 10\n",
      "When input is tensor([18, 47, 56, 57, 58,  1, 15, 47, 58, 47, 64, 43, 52, 10]) the target is 0\n",
      "When input is tensor([18, 47, 56, 57, 58,  1, 15, 47, 58, 47, 64, 43, 52, 10,  0]) the target is 14\n",
      "When input is tensor([18, 47, 56, 57, 58,  1, 15, 47, 58, 47, 64, 43, 52, 10,  0, 14]) the target is 43\n"
     ]
    }
   ],
   "source": [
    "# Example what is x and wahat is to predict for tranformer\n",
    "x = train_data[:block_size]\n",
    "y = train_data[1: block_size+1]\n",
    "for t in range(block_size):\n",
    "    context = x[:t+1]\n",
    "    target = y[t]\n",
    "    print(f'When input is {context} the target is {target}')"
   ]
  },
  {
   "cell_type": "code",
   "execution_count": 28,
   "id": "7493c073-01c8-4e65-a2c2-981d4c7439aa",
   "metadata": {
    "execution": {
     "iopub.execute_input": "2024-10-06T09:23:48.880946Z",
     "iopub.status.busy": "2024-10-06T09:23:48.880060Z",
     "iopub.status.idle": "2024-10-06T09:23:48.911829Z",
     "shell.execute_reply": "2024-10-06T09:23:48.911282Z",
     "shell.execute_reply.started": "2024-10-06T09:23:48.880876Z"
    }
   },
   "outputs": [
    {
     "data": {
      "text/plain": [
       "tensor([50, 71, 42, 50, 31, 12, 69,  0])"
      ]
     },
     "execution_count": 28,
     "metadata": {},
     "output_type": "execute_result"
    }
   ],
   "source": [
    "# code example\n",
    "torch.randint(100,(8,))"
   ]
  },
  {
   "cell_type": "code",
   "execution_count": 29,
   "id": "111ea604-eac8-4fe3-9287-4780ff572bdc",
   "metadata": {
    "execution": {
     "iopub.execute_input": "2024-10-06T09:25:08.695147Z",
     "iopub.status.busy": "2024-10-06T09:25:08.694277Z",
     "iopub.status.idle": "2024-10-06T09:25:08.730489Z",
     "shell.execute_reply": "2024-10-06T09:25:08.730059Z",
     "shell.execute_reply.started": "2024-10-06T09:25:08.695105Z"
    }
   },
   "outputs": [
    {
     "data": {
      "text/plain": [
       "[tensor([ 1, 51, 43,  1, 57, 54, 43, 39, 49,  8,  0,  0, 13, 50, 50, 10]),\n",
       " tensor([51, 43,  1, 57, 54, 43, 39, 49,  8,  0,  0, 13, 50, 50, 10,  0]),\n",
       " tensor([ 1, 39, 56, 43,  1, 39, 50, 50,  1, 56, 43, 57, 53, 50, 60, 43])]"
      ]
     },
     "execution_count": 29,
     "metadata": {},
     "output_type": "execute_result"
    }
   ],
   "source": [
    "# code example\n",
    "[train_data[i:i+block_size] for i in [50, 51, 100]]"
   ]
  },
  {
   "cell_type": "code",
   "execution_count": 30,
   "id": "596d5e3c-3635-4e59-89ea-5cb8e9741785",
   "metadata": {
    "execution": {
     "iopub.execute_input": "2024-10-06T09:25:40.620480Z",
     "iopub.status.busy": "2024-10-06T09:25:40.619539Z",
     "iopub.status.idle": "2024-10-06T09:25:40.662275Z",
     "shell.execute_reply": "2024-10-06T09:25:40.661843Z",
     "shell.execute_reply.started": "2024-10-06T09:25:40.620434Z"
    },
    "scrolled": true
   },
   "outputs": [
    {
     "name": "stdout",
     "output_type": "stream",
     "text": [
      "inputs\n",
      "torch.Size([4, 8])\n",
      "tensor([[24, 43, 58,  5, 57,  1, 46, 43],\n",
      "        [44, 53, 56,  1, 58, 46, 39, 58],\n",
      "        [52, 58,  1, 58, 46, 39, 58,  1],\n",
      "        [25, 17, 27, 10,  0, 21,  1, 54]])\n",
      "targets\n",
      "torch.Size([4, 8])\n",
      "tensor([[43, 58,  5, 57,  1, 46, 43, 39],\n",
      "        [53, 56,  1, 58, 46, 39, 58,  1],\n",
      "        [58,  1, 58, 46, 39, 58,  1, 46],\n",
      "        [17, 27, 10,  0, 21,  1, 54, 39]])\n",
      "--------------------\n",
      "When input is tensor([24]) the target is 43\n",
      "When input is tensor([24, 43]) the target is 58\n",
      "When input is tensor([24, 43, 58]) the target is 5\n",
      "When input is tensor([24, 43, 58,  5]) the target is 57\n",
      "When input is tensor([24, 43, 58,  5, 57]) the target is 1\n",
      "When input is tensor([24, 43, 58,  5, 57,  1]) the target is 46\n",
      "When input is tensor([24, 43, 58,  5, 57,  1, 46]) the target is 43\n",
      "When input is tensor([24, 43, 58,  5, 57,  1, 46, 43]) the target is 39\n",
      "When input is tensor([44]) the target is 53\n",
      "When input is tensor([44, 53]) the target is 56\n",
      "When input is tensor([44, 53, 56]) the target is 1\n",
      "When input is tensor([44, 53, 56,  1]) the target is 58\n",
      "When input is tensor([44, 53, 56,  1, 58]) the target is 46\n",
      "When input is tensor([44, 53, 56,  1, 58, 46]) the target is 39\n",
      "When input is tensor([44, 53, 56,  1, 58, 46, 39]) the target is 58\n",
      "When input is tensor([44, 53, 56,  1, 58, 46, 39, 58]) the target is 1\n",
      "When input is tensor([52]) the target is 58\n",
      "When input is tensor([52, 58]) the target is 1\n",
      "When input is tensor([52, 58,  1]) the target is 58\n",
      "When input is tensor([52, 58,  1, 58]) the target is 46\n",
      "When input is tensor([52, 58,  1, 58, 46]) the target is 39\n",
      "When input is tensor([52, 58,  1, 58, 46, 39]) the target is 58\n",
      "When input is tensor([52, 58,  1, 58, 46, 39, 58]) the target is 1\n",
      "When input is tensor([52, 58,  1, 58, 46, 39, 58,  1]) the target is 46\n",
      "When input is tensor([25]) the target is 17\n",
      "When input is tensor([25, 17]) the target is 27\n",
      "When input is tensor([25, 17, 27]) the target is 10\n",
      "When input is tensor([25, 17, 27, 10]) the target is 0\n",
      "When input is tensor([25, 17, 27, 10,  0]) the target is 21\n",
      "When input is tensor([25, 17, 27, 10,  0, 21]) the target is 1\n",
      "When input is tensor([25, 17, 27, 10,  0, 21,  1]) the target is 54\n",
      "When input is tensor([25, 17, 27, 10,  0, 21,  1, 54]) the target is 39\n"
     ]
    }
   ],
   "source": [
    "torch.manual_seed(1337)\n",
    "block_size = 8\n",
    "batch_size = 4\n",
    "\n",
    "def get_batch(split=None):\n",
    "    \"\"\"\n",
    "    Generate a batch of data for training o validation.\n",
    "    \"\"\"\n",
    "    if split==\"train\":\n",
    "        data = train_data\n",
    "    else:\n",
    "        data = val_data\n",
    "    ix = torch.randint(len(data)-block_size, (batch_size,))\n",
    "    x = torch.stack([data[i:i+block_size] for i in ix])\n",
    "    y = torch.stack([data[i+1:i+block_size+1] for i in ix])\n",
    "    return x, y\n",
    "\n",
    "xb, yb = get_batch('train')\n",
    "\n",
    "print('inputs')\n",
    "print(xb.shape)\n",
    "print(xb)\n",
    "\n",
    "print('targets')\n",
    "print(yb.shape)\n",
    "print(yb)\n",
    "print(\"-\"*20)\n",
    "\n",
    "for b in range(batch_size):\n",
    "    for t in range(block_size):\n",
    "        context = xb[b,:t+1]\n",
    "        target = yb[b,t]\n",
    "        print(f'When input is {context} the target is {target}')"
   ]
  },
  {
   "cell_type": "code",
   "execution_count": 1,
   "id": "8531b4f5-2620-46ff-bc32-da1e404a93d3",
   "metadata": {
    "execution": {
     "iopub.execute_input": "2025-01-13T14:39:57.379082Z",
     "iopub.status.busy": "2025-01-13T14:39:57.378878Z",
     "iopub.status.idle": "2025-01-13T14:39:57.385532Z",
     "shell.execute_reply": "2025-01-13T14:39:57.385071Z",
     "shell.execute_reply.started": "2025-01-13T14:39:57.379047Z"
    }
   },
   "outputs": [],
   "source": [
    "# test git"
   ]
  },
  {
   "cell_type": "code",
   "execution_count": 2,
   "id": "898fc6a9-c23e-4cbb-abad-3cea31592398",
   "metadata": {
    "execution": {
     "iopub.execute_input": "2025-01-13T14:56:36.348794Z",
     "iopub.status.busy": "2025-01-13T14:56:36.347709Z",
     "iopub.status.idle": "2025-01-13T14:56:36.354481Z",
     "shell.execute_reply": "2025-01-13T14:56:36.354086Z",
     "shell.execute_reply.started": "2025-01-13T14:56:36.348766Z"
    }
   },
   "outputs": [],
   "source": [
    "#test 3: git with d.bedok@gmail.com email"
   ]
  },
  {
   "cell_type": "code",
   "execution_count": null,
   "id": "f7bbf8fa-18e8-4bbd-8ae5-c453cb44dd75",
   "metadata": {},
   "outputs": [],
   "source": []
  }
 ],
 "metadata": {
  "kernelspec": {
   "display_name": "Python 3 (ipykernel)",
   "language": "python",
   "name": "python3"
  },
  "language_info": {
   "codemirror_mode": {
    "name": "ipython",
    "version": 3
   },
   "file_extension": ".py",
   "mimetype": "text/x-python",
   "name": "python",
   "nbconvert_exporter": "python",
   "pygments_lexer": "ipython3",
   "version": "3.8.17"
  }
 },
 "nbformat": 4,
 "nbformat_minor": 5
}
