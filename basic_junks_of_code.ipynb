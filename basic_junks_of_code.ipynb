{
 "cells": [
  {
   "cell_type": "markdown",
   "id": "f2ddc821-199b-4b65-a55b-448f77bc80b4",
   "metadata": {},
   "source": [
    "# GPT2 from scratch"
   ]
  },
  {
   "cell_type": "markdown",
   "id": "5241b1ad-3235-4265-a283-441629cd8bad",
   "metadata": {
    "execution": {
     "iopub.execute_input": "2024-09-26T10:51:50.860597Z",
     "iopub.status.busy": "2024-09-26T10:51:50.859721Z",
     "iopub.status.idle": "2024-09-26T10:51:50.878008Z",
     "shell.execute_reply": "2024-09-26T10:51:50.876907Z",
     "shell.execute_reply.started": "2024-09-26T10:51:50.860546Z"
    }
   },
   "source": [
    "**Base on the video of Andrej Karpathy** https://www.youtube.com/watch?v=kCc8FmEb1nY"
   ]
  },
  {
   "cell_type": "markdown",
   "id": "9c9e930d-13ab-4e85-84f9-a2bdbad6f028",
   "metadata": {},
   "source": [
    "We build a Generatively Pretrained Transformer (GPT), following the paper \"Attention is All You Need\" and OpenAI's GPT-2 / GPT-3. We talk about connections to ChatGPT, which has taken the world by storm. We watch GitHub Copilot, itself a GPT, help us write a GPT (meta :D!) . I recommend people watch the earlier makemore videos to get comfortable with the autoregressive language modeling framework and basics of tensors and PyTorch nn, which we take for granted in this video.\n",
    "\n",
    "Links:\n",
    "- Google colab for the video: https://colab.research.google.com/drive/1JMLa53HDuA-i7ZBmqV7ZnA3c_fvtXnx-\n",
    "- GitHub repo for the video: https://github.com/karpathy/ng-video-lecture\n",
    "- Playlist of the whole Zero to Hero series so far:    • The spelled-out intro to neural netwo...  \n",
    "- nanoGPT repo: https://github.com/karpathy/nanoGPT\n",
    "- my website: https://karpathy.ai\n",
    "- my twitter:   / karpathy  \n",
    "- our Discord channel:   / discord  \n",
    "\n",
    "Supplementary links:\n",
    "- Attention is All You Need paper: https://arxiv.org/abs/1706.03762\n",
    "- OpenAI GPT-3 paper: https://arxiv.org/abs/2005.14165 \n",
    "- OpenAI ChatGPT blog post: https://openai.com/blog/chatgpt/\n",
    "- The GPU I'm training the model on is from Lambda GPU Cloud, I think the best and easiest way to spin up an on-demand GPU instance in the cloud that you can ssh to: https://lambdalabs.com . If you prefer to work in notebooks, I think the easiest path today is Google Colab.\n",
    "\n",
    "Suggested exercises:\n",
    "- EX1: The n-dimensional tensor mastery challenge: Combine the `Head` and `MultiHeadAttention` into one class that processes all the heads in parallel, treating the heads as another batch dimension (answer is in nanoGPT).\n",
    "- EX2: Train the GPT on your own dataset of choice! What other data could be fun to blabber on about? (A fun advanced suggestion if you like: train a GPT to do addition of two numbers, i.e. a+b=c. You may find it helpful to predict the digits of c in reverse order, as the typical addition algorithm (that you're hoping it learns) would proceed right to left too. You may want to modify the data loader to simply serve random problems and skip the generation of train.bin, val.bin. You may want to mask out the loss at the input positions of a+b that just specify the problem using y=-1 in the targets (see CrossEntropyLoss ignore_index). Does your Transformer learn to add? Once you have this, swole doge project: build a calculator clone in GPT, for all of +-*/. Not an easy problem. You may need Chain of Thought traces.)\n",
    "- EX3: Find a dataset that is very large, so large that you can't see a gap between train and val loss. Pretrain the transformer on this data, then initialize with that model and finetune it on tiny shakespeare with a smaller number of steps and lower learning rate. Can you obtain a lower validation loss by the use of pretraining?\n",
    "- EX4: Read some transformer papers and implement one additional feature or change that people seem to use. Does it improve the performance of your GPT?"
   ]
  },
  {
   "cell_type": "markdown",
   "id": "a872db3e-31b0-4b1b-84d0-0782d3804032",
   "metadata": {},
   "source": [
    "## Basic settings and imports"
   ]
  },
  {
   "cell_type": "code",
   "execution_count": 5,
   "id": "62fbaaf1-ef7c-4bea-92e9-4b11f59829a8",
   "metadata": {
    "execution": {
     "iopub.execute_input": "2024-09-26T11:00:32.655360Z",
     "iopub.status.busy": "2024-09-26T11:00:32.654470Z",
     "iopub.status.idle": "2024-09-26T11:00:32.680379Z",
     "shell.execute_reply": "2024-09-26T11:00:32.679810Z",
     "shell.execute_reply.started": "2024-09-26T11:00:32.655294Z"
    }
   },
   "outputs": [
    {
     "name": "stdout",
     "output_type": "stream",
     "text": [
      "The autoreload extension is already loaded. To reload it, use:\n",
      "  %reload_ext autoreload\n"
     ]
    }
   ],
   "source": [
    "# Automatically reload modules when they have changed\n",
    "%load_ext autoreload"
   ]
  },
  {
   "cell_type": "code",
   "execution_count": 6,
   "id": "632bbee5-624b-4cc8-9812-2484be3e6ce8",
   "metadata": {
    "execution": {
     "iopub.execute_input": "2024-09-26T11:00:33.520219Z",
     "iopub.status.busy": "2024-09-26T11:00:33.519461Z",
     "iopub.status.idle": "2024-09-26T11:00:33.544226Z",
     "shell.execute_reply": "2024-09-26T11:00:33.543516Z",
     "shell.execute_reply.started": "2024-09-26T11:00:33.520172Z"
    }
   },
   "outputs": [],
   "source": [
    "%autoreload 2"
   ]
  },
  {
   "cell_type": "code",
   "execution_count": 7,
   "id": "8142a43f-3b04-4ca2-aa7c-673e62b09724",
   "metadata": {
    "execution": {
     "iopub.execute_input": "2024-09-26T11:00:34.369482Z",
     "iopub.status.busy": "2024-09-26T11:00:34.368474Z",
     "iopub.status.idle": "2024-09-26T11:00:34.392284Z",
     "shell.execute_reply": "2024-09-26T11:00:34.391811Z",
     "shell.execute_reply.started": "2024-09-26T11:00:34.369413Z"
    }
   },
   "outputs": [
    {
     "data": {
      "text/html": [
       "<style>.container { width:80% !important; }</style>"
      ],
      "text/plain": [
       "<IPython.core.display.HTML object>"
      ]
     },
     "metadata": {},
     "output_type": "display_data"
    }
   ],
   "source": [
    "# Update width of the jupyter page\n",
    "from IPython.core.display import HTML\n",
    "from IPython.display import display\n",
    "\n",
    "display(HTML(\"<style>.container { width:80% !important; }</style>\"))"
   ]
  },
  {
   "cell_type": "code",
   "execution_count": 8,
   "id": "4770cb53-497e-4137-99c0-d425ac6ef51b",
   "metadata": {
    "execution": {
     "iopub.execute_input": "2024-09-26T11:00:39.172786Z",
     "iopub.status.busy": "2024-09-26T11:00:39.171772Z",
     "iopub.status.idle": "2024-09-26T11:00:39.928427Z",
     "shell.execute_reply": "2024-09-26T11:00:39.928088Z",
     "shell.execute_reply.started": "2024-09-26T11:00:39.172712Z"
    }
   },
   "outputs": [],
   "source": [
    "# Show images inline\n",
    "%matplotlib inline"
   ]
  },
  {
   "cell_type": "code",
   "execution_count": 9,
   "id": "15df2273-1d27-4d72-b03a-528859d99833",
   "metadata": {
    "execution": {
     "iopub.execute_input": "2024-09-26T11:00:54.197559Z",
     "iopub.status.busy": "2024-09-26T11:00:54.196445Z",
     "iopub.status.idle": "2024-09-26T11:00:54.227957Z",
     "shell.execute_reply": "2024-09-26T11:00:54.227563Z",
     "shell.execute_reply.started": "2024-09-26T11:00:54.197488Z"
    }
   },
   "outputs": [
    {
     "name": "stdout",
     "output_type": "stream",
     "text": [
      "3.8.19\n"
     ]
    }
   ],
   "source": [
    "# Check python version\n",
    "from platform import python_version\n",
    "print(python_version())"
   ]
  },
  {
   "cell_type": "code",
   "execution_count": 24,
   "id": "c72f7dc3-9522-4c4f-83f1-6a4d44ae514f",
   "metadata": {
    "execution": {
     "iopub.execute_input": "2024-09-26T12:28:00.821396Z",
     "iopub.status.busy": "2024-09-26T12:28:00.819930Z",
     "iopub.status.idle": "2024-09-26T12:28:11.348407Z",
     "shell.execute_reply": "2024-09-26T12:28:11.348106Z",
     "shell.execute_reply.started": "2024-09-26T12:28:00.821309Z"
    }
   },
   "outputs": [],
   "source": [
    "# Import libraries\n",
    "import torch"
   ]
  },
  {
   "cell_type": "markdown",
   "id": "87f2de70-4caa-4278-8377-9ed06dd5a9a9",
   "metadata": {},
   "source": [
    "## Start Course"
   ]
  },
  {
   "cell_type": "code",
   "execution_count": 14,
   "id": "15389d2f-4eee-4127-a9ba-db9f32c01d3a",
   "metadata": {
    "execution": {
     "iopub.execute_input": "2024-09-26T11:34:53.974780Z",
     "iopub.status.busy": "2024-09-26T11:34:53.973550Z",
     "iopub.status.idle": "2024-09-26T11:34:54.358404Z",
     "shell.execute_reply": "2024-09-26T11:34:54.356677Z",
     "shell.execute_reply.started": "2024-09-26T11:34:53.974702Z"
    }
   },
   "outputs": [
    {
     "name": "stdout",
     "output_type": "stream",
     "text": [
      "  % Total    % Received % Xferd  Average Speed   Time    Time     Time  Current\n",
      "                                 Dload  Upload   Total   Spent    Left  Speed\n",
      "100 1089k  100 1089k    0     0  5327k      0 --:--:-- --:--:-- --:--:-- 5313k\n"
     ]
    }
   ],
   "source": [
    "# Get dataset\n",
    "!curl https://raw.githubusercontent.com/karpathy/char-rnn/master/data/tinyshakespeare/input.txt -o tinyshakespeare.txt"
   ]
  },
  {
   "cell_type": "code",
   "execution_count": 16,
   "id": "12e34e61-7e52-402c-b300-6f3c2362191d",
   "metadata": {
    "execution": {
     "iopub.execute_input": "2024-09-26T12:02:50.425238Z",
     "iopub.status.busy": "2024-09-26T12:02:50.424355Z",
     "iopub.status.idle": "2024-09-26T12:02:50.454580Z",
     "shell.execute_reply": "2024-09-26T12:02:50.453664Z",
     "shell.execute_reply.started": "2024-09-26T12:02:50.425190Z"
    }
   },
   "outputs": [],
   "source": [
    "# read to inspect\n",
    "with open('tinyshakespeare.txt', mode='r', encoding='utf-8') as f:\n",
    "    text = f.read()"
   ]
  },
  {
   "cell_type": "code",
   "execution_count": 19,
   "id": "3f30d46c-476f-4c2a-a447-df90a2709fbb",
   "metadata": {
    "execution": {
     "iopub.execute_input": "2024-09-26T12:04:44.872098Z",
     "iopub.status.busy": "2024-09-26T12:04:44.871264Z",
     "iopub.status.idle": "2024-09-26T12:04:45.007881Z",
     "shell.execute_reply": "2024-09-26T12:04:45.007577Z",
     "shell.execute_reply.started": "2024-09-26T12:04:44.872048Z"
    }
   },
   "outputs": [
    {
     "name": "stdout",
     "output_type": "stream",
     "text": [
      "Length of dataset: 1115394\n",
      "First 100 chars: \n",
      "First Citizen:\n",
      "Before we proceed any further, hear me speak.\n",
      "\n",
      "All:\n",
      "Speak, speak.\n",
      "\n",
      "First Citizen:\n",
      "You\n"
     ]
    }
   ],
   "source": [
    "print(f\"Length of dataset: {len(text)}\")\n",
    "print(f\"First 100 chars: \\n{text[:100]}\")"
   ]
  },
  {
   "cell_type": "code",
   "execution_count": 20,
   "id": "2f91c982-5d0a-473c-92c2-c07346c30703",
   "metadata": {
    "execution": {
     "iopub.execute_input": "2024-09-26T12:07:58.072265Z",
     "iopub.status.busy": "2024-09-26T12:07:58.071381Z",
     "iopub.status.idle": "2024-09-26T12:07:58.137336Z",
     "shell.execute_reply": "2024-09-26T12:07:58.136936Z",
     "shell.execute_reply.started": "2024-09-26T12:07:58.072221Z"
    }
   },
   "outputs": [
    {
     "name": "stdout",
     "output_type": "stream",
     "text": [
      "['\\n', ' ', '!', '$', '&', \"'\", ',', '-', '.', '3', ':', ';', '?', 'A', 'B', 'C', 'D', 'E', 'F', 'G', 'H', 'I', 'J', 'K', 'L', 'M', 'N', 'O', 'P', 'Q', 'R', 'S', 'T', 'U', 'V', 'W', 'X', 'Y', 'Z', 'a', 'b', 'c', 'd', 'e', 'f', 'g', 'h', 'i', 'j', 'k', 'l', 'm', 'n', 'o', 'p', 'q', 'r', 's', 't', 'u', 'v', 'w', 'x', 'y', 'z']\n",
      "65\n"
     ]
    }
   ],
   "source": [
    "# All characters in the text\n",
    "chars = sorted(list(set(text)))\n",
    "vocab_size = len(chars)\n",
    "print(chars)\n",
    "print(vocab_size)"
   ]
  },
  {
   "cell_type": "code",
   "execution_count": 23,
   "id": "97e402d0-0220-4b4c-94d5-b461045c1788",
   "metadata": {
    "execution": {
     "iopub.execute_input": "2024-09-26T12:17:01.767750Z",
     "iopub.status.busy": "2024-09-26T12:17:01.766831Z",
     "iopub.status.idle": "2024-09-26T12:17:01.792793Z",
     "shell.execute_reply": "2024-09-26T12:17:01.792333Z",
     "shell.execute_reply.started": "2024-09-26T12:17:01.767684Z"
    }
   },
   "outputs": [
    {
     "name": "stdout",
     "output_type": "stream",
     "text": [
      "[20, 47, 1, 32, 46, 43, 56, 43]\n",
      "Hi There\n"
     ]
    }
   ],
   "source": [
    "# Create mapping from charecters to integers\n",
    "stoi = {s:i for i,s in enumerate(chars)}\n",
    "itos = {i:s for i,s in enumerate(chars)}\n",
    "encode = lambda s: [stoi[el] for el in s]\n",
    "decode = lambda i: \"\".join([itos[el] for el in i])\n",
    "\n",
    "print(encode(\"Hi There\"))\n",
    "print(decode([20, 47, 1, 32, 46, 43, 56, 43]))"
   ]
  },
  {
   "cell_type": "code",
   "execution_count": 29,
   "id": "28816130-342e-4fd8-900e-810c9b78a168",
   "metadata": {
    "execution": {
     "iopub.execute_input": "2024-09-26T12:34:33.546537Z",
     "iopub.status.busy": "2024-09-26T12:34:33.545656Z",
     "iopub.status.idle": "2024-09-26T12:34:33.670565Z",
     "shell.execute_reply": "2024-09-26T12:34:33.670038Z",
     "shell.execute_reply.started": "2024-09-26T12:34:33.546475Z"
    }
   },
   "outputs": [
    {
     "name": "stdout",
     "output_type": "stream",
     "text": [
      "torch.Size([1115394]) torch.int64\n",
      "tensor([18, 47, 56, 57, 58,  1, 15, 47, 58, 47, 64, 43, 52, 10,  0, 14, 43, 44,\n",
      "        53, 56, 43,  1, 61, 43,  1, 54, 56, 53, 41, 43, 43, 42,  1, 39, 52, 63,\n",
      "         1, 44, 59, 56, 58, 46, 43, 56,  6,  1, 46, 43, 39, 56,  1, 51, 43,  1,\n",
      "        57, 54, 43, 39, 49,  8,  0,  0, 13, 50, 50, 10,  0, 31, 54, 43, 39, 49,\n",
      "         6,  1, 57, 54, 43, 39, 49,  8,  0,  0, 18, 47, 56, 57, 58,  1, 15, 47,\n",
      "        58, 47, 64, 43, 52, 10,  0, 37, 53, 59])\n"
     ]
    }
   ],
   "source": [
    "# Tokenize the whole dataset, using torch tensor\n",
    "data = torch.tensor(encode(text), dtype=torch.long)\n",
    "\n",
    "print(data.shape, data.dtype)\n",
    "print(data[:100])"
   ]
  },
  {
   "cell_type": "code",
   "execution_count": 30,
   "id": "8dee609b-015b-4508-915a-86baaec1f8dd",
   "metadata": {
    "execution": {
     "iopub.execute_input": "2024-09-26T12:36:31.547427Z",
     "iopub.status.busy": "2024-09-26T12:36:31.546340Z",
     "iopub.status.idle": "2024-09-26T12:36:31.576577Z",
     "shell.execute_reply": "2024-09-26T12:36:31.576115Z",
     "shell.execute_reply.started": "2024-09-26T12:36:31.547354Z"
    }
   },
   "outputs": [],
   "source": [
    "# Split dataset in train and validation\n",
    "n = int(0.9*len(data))\n",
    "train_data = data[:n]\n",
    "val_data = data[n:]"
   ]
  },
  {
   "cell_type": "code",
   "execution_count": null,
   "id": "4b5e9f5f-2f41-4dd7-b589-8d51cee62c0a",
   "metadata": {},
   "outputs": [],
   "source": []
  }
 ],
 "metadata": {
  "kernelspec": {
   "display_name": "Python 3 (ipykernel)",
   "language": "python",
   "name": "python3"
  },
  "language_info": {
   "codemirror_mode": {
    "name": "ipython",
    "version": 3
   },
   "file_extension": ".py",
   "mimetype": "text/x-python",
   "name": "python",
   "nbconvert_exporter": "python",
   "pygments_lexer": "ipython3",
   "version": "3.8.19"
  }
 },
 "nbformat": 4,
 "nbformat_minor": 5
}
